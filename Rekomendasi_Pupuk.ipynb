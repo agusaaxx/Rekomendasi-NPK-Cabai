{
  "nbformat": 4,
  "nbformat_minor": 0,
  "metadata": {
    "colab": {
      "provenance": [],
      "authorship_tag": "ABX9TyM9ET275mKYmbIIesPfhbnj",
      "include_colab_link": true
    },
    "kernelspec": {
      "name": "python3",
      "display_name": "Python 3"
    },
    "language_info": {
      "name": "python"
    }
  },
  "cells": [
    {
      "cell_type": "markdown",
      "metadata": {
        "id": "view-in-github",
        "colab_type": "text"
      },
      "source": [
        "<a href=\"https://colab.research.google.com/github/agusaaxx/Rekomendasi-NPK-Cabai/blob/main/Rekomendasi_Pupuk.ipynb\" target=\"_parent\"><img src=\"https://colab.research.google.com/assets/colab-badge.svg\" alt=\"Open In Colab\"/></a>"
      ]
    },
    {
      "cell_type": "code",
      "source": [
        "import pandas as pd\n",
        "import joblib\n",
        "import time\n",
        "import firebase_admin\n",
        "from firebase_admin import credentials, db"
      ],
      "metadata": {
        "id": "yWRQpFoD2YMd"
      },
      "execution_count": 1,
      "outputs": []
    },
    {
      "cell_type": "code",
      "source": [
        "# ================= KONFIGURASI FIREBASE & PUPUK =================\n",
        "# Inisialisasi Firebase\n",
        "cred = credentials.Certificate('firebase-service-key.json') # Pastikan nama file sesuai\n",
        "firebase_admin.initialize_app(cred, {\n",
        "    'databaseURL': 'https://<NAMA-PROYEK-ANDA>.firebaseio.com' # GANTI DENGAN URL DATABASE ANDA\n",
        "})\n",
        "\n",
        "# Path di Firebase Realtime Database tempat ESP32 mengirim data\n",
        "FIREBASE_PATH = '/sensor/terbaru' # Sesuaikan dengan path yang Anda gunakan di ESP32\n",
        "\n",
        "# Konfigurasi pupuk (sama seperti sebelumnya)\n",
        "KANDUNGAN_N_PUPUK = 16\n",
        "KANDUNGAN_P_PUPUK = 16\n",
        "KANDUNGAN_K_PUPUK = 16\n",
        "BERAT_TANAH_PER_M2 = 260 # kg\n",
        "# ================================================================="
      ],
      "metadata": {
        "colab": {
          "base_uri": "https://localhost:8080/",
          "height": 332
        },
        "id": "sa9o9Si_2gui",
        "outputId": "5a8093b1-94fd-48f3-e540-402fd3b0b72a"
      },
      "execution_count": 2,
      "outputs": [
        {
          "output_type": "error",
          "ename": "FileNotFoundError",
          "evalue": "[Errno 2] No such file or directory: 'firebase-service-key.json'",
          "traceback": [
            "\u001b[0;31m---------------------------------------------------------------------------\u001b[0m",
            "\u001b[0;31mFileNotFoundError\u001b[0m                         Traceback (most recent call last)",
            "\u001b[0;32m/tmp/ipython-input-2-2422363217.py\u001b[0m in \u001b[0;36m<cell line: 0>\u001b[0;34m()\u001b[0m\n\u001b[1;32m      1\u001b[0m \u001b[0;31m# ================= KONFIGURASI FIREBASE & PUPUK =================\u001b[0m\u001b[0;34m\u001b[0m\u001b[0;34m\u001b[0m\u001b[0m\n\u001b[1;32m      2\u001b[0m \u001b[0;31m# Inisialisasi Firebase\u001b[0m\u001b[0;34m\u001b[0m\u001b[0;34m\u001b[0m\u001b[0m\n\u001b[0;32m----> 3\u001b[0;31m \u001b[0mcred\u001b[0m \u001b[0;34m=\u001b[0m \u001b[0mcredentials\u001b[0m\u001b[0;34m.\u001b[0m\u001b[0mCertificate\u001b[0m\u001b[0;34m(\u001b[0m\u001b[0;34m'firebase-service-key.json'\u001b[0m\u001b[0;34m)\u001b[0m \u001b[0;31m# Pastikan nama file sesuai\u001b[0m\u001b[0;34m\u001b[0m\u001b[0;34m\u001b[0m\u001b[0m\n\u001b[0m\u001b[1;32m      4\u001b[0m firebase_admin.initialize_app(cred, {\n\u001b[1;32m      5\u001b[0m     \u001b[0;34m'databaseURL'\u001b[0m\u001b[0;34m:\u001b[0m \u001b[0;34m'https://<NAMA-PROYEK-ANDA>.firebaseio.com'\u001b[0m \u001b[0;31m# GANTI DENGAN URL DATABASE ANDA\u001b[0m\u001b[0;34m\u001b[0m\u001b[0;34m\u001b[0m\u001b[0m\n",
            "\u001b[0;32m/usr/local/lib/python3.11/dist-packages/firebase_admin/credentials.py\u001b[0m in \u001b[0;36m__init__\u001b[0;34m(self, cert)\u001b[0m\n\u001b[1;32m     95\u001b[0m         \u001b[0msuper\u001b[0m\u001b[0;34m(\u001b[0m\u001b[0mCertificate\u001b[0m\u001b[0;34m,\u001b[0m \u001b[0mself\u001b[0m\u001b[0;34m)\u001b[0m\u001b[0;34m.\u001b[0m\u001b[0m__init__\u001b[0m\u001b[0;34m(\u001b[0m\u001b[0;34m)\u001b[0m\u001b[0;34m\u001b[0m\u001b[0;34m\u001b[0m\u001b[0m\n\u001b[1;32m     96\u001b[0m         \u001b[0;32mif\u001b[0m \u001b[0m_is_file_path\u001b[0m\u001b[0;34m(\u001b[0m\u001b[0mcert\u001b[0m\u001b[0;34m)\u001b[0m\u001b[0;34m:\u001b[0m\u001b[0;34m\u001b[0m\u001b[0;34m\u001b[0m\u001b[0m\n\u001b[0;32m---> 97\u001b[0;31m             \u001b[0;32mwith\u001b[0m \u001b[0mopen\u001b[0m\u001b[0;34m(\u001b[0m\u001b[0mcert\u001b[0m\u001b[0;34m)\u001b[0m \u001b[0;32mas\u001b[0m \u001b[0mjson_file\u001b[0m\u001b[0;34m:\u001b[0m\u001b[0;34m\u001b[0m\u001b[0;34m\u001b[0m\u001b[0m\n\u001b[0m\u001b[1;32m     98\u001b[0m                 \u001b[0mjson_data\u001b[0m \u001b[0;34m=\u001b[0m \u001b[0mjson\u001b[0m\u001b[0;34m.\u001b[0m\u001b[0mload\u001b[0m\u001b[0;34m(\u001b[0m\u001b[0mjson_file\u001b[0m\u001b[0;34m)\u001b[0m\u001b[0;34m\u001b[0m\u001b[0;34m\u001b[0m\u001b[0m\n\u001b[1;32m     99\u001b[0m         \u001b[0;32melif\u001b[0m \u001b[0misinstance\u001b[0m\u001b[0;34m(\u001b[0m\u001b[0mcert\u001b[0m\u001b[0;34m,\u001b[0m \u001b[0mdict\u001b[0m\u001b[0;34m)\u001b[0m\u001b[0;34m:\u001b[0m\u001b[0;34m\u001b[0m\u001b[0;34m\u001b[0m\u001b[0m\n",
            "\u001b[0;31mFileNotFoundError\u001b[0m: [Errno 2] No such file or directory: 'firebase-service-key.json'"
          ]
        }
      ]
    },
    {
      "cell_type": "code",
      "source": [
        "def muat_model():\n",
        "    \"\"\"Memuat semua model yang telah dilatih.\"\"\"\n",
        "    try:\n",
        "        model_n = joblib.load('model_rekomendasi_N.pkl')\n",
        "        model_p = joblib.load('model_rekomendasi_P.pkl')\n",
        "        model_k = joblib.load('model_rekomendasi_K.pkl')\n",
        "        print(\"✅ Semua model machine learning berhasil dimuat.\")\n",
        "        return model_n, model_p, model_k\n",
        "    except FileNotFoundError:\n",
        "        print(\"❌ Error: File model tidak ditemukan. Jalankan script pelatihan terlebih dahulu.\")\n",
        "        return None, None, None\n"
      ],
      "metadata": {
        "id": "tXD7u7hS2lfL"
      },
      "execution_count": 11,
      "outputs": []
    },
    {
      "cell_type": "code",
      "source": [
        "def baca_data_dari_firebase():\n",
        "    \"\"\"\n",
        "    Fungsi baru: Mengambil data sensor terakhir dari Firebase Realtime Database.\n",
        "    \"\"\"\n",
        "    try:\n",
        "        print(f\"\\n📡 Mengambil data dari Firebase di path: '{FIREBASE_PATH}'...\")\n",
        "        ref = db.reference(FIREBASE_PATH)\n",
        "        data_sensor = ref.get()\n",
        "\n",
        "        if data_sensor:\n",
        "            print(\"✔️ Data berhasil diterima dari Firebase.\")\n",
        "            # Pastikan nama field di Firebase cocok dengan yang diharapkan\n",
        "            # Contoh: { \"n_tanah\": 50, \"p_tanah\": 30, ... }\n",
        "            return data_sensor\n",
        "        else:\n",
        "            print(\"⚠️ Data di Firebase kosong. Menunggu data masuk...\")\n",
        "            return None\n",
        "    except Exception as e:\n",
        "        print(f\"❌ Gagal terhubung ke Firebase: {e}\")\n",
        "        return None"
      ],
      "metadata": {
        "id": "QHG1uKAe2mY7"
      },
      "execution_count": 12,
      "outputs": []
    },
    {
      "cell_type": "code",
      "source": [
        "def hitung_rekomendasi(model_n, model_p, model_k, data_sensor):\n",
        "    \"\"\"Menjalankan prediksi dan menghitung dosis pupuk (tidak ada perubahan di fungsi ini).\"\"\"\n",
        "    # 1. Siapkan data input untuk model\n",
        "    input_prediksi = pd.DataFrame([{\n",
        "        'kelembaban_tanah': data_sensor['kelembaban_tanah'],\n",
        "        'suhu_udara': data_sensor['suhu_udara'],\n",
        "        'kelembaban_udara': data_sensor['kelembaban_udara'],\n",
        "        'intensitas_cahaya': data_sensor['intensitas_cahaya']\n",
        "    }])\n",
        "\n",
        "    # 2. Lakukan prediksi\n",
        "    n_optimal = model_n.predict(input_prediksi)[0]\n",
        "    p_optimal = model_p.predict(input_prediksi)[0]\n",
        "    k_optimal = model_k.predict(input_prediksi)[0]\n",
        "\n",
        "    print(f\"\\n--- Hasil Prediksi Model ---\")\n",
        "    print(f\"Kadar NPK Optimal Seharusnya: N={n_optimal:.2f} ppm, P={p_optimal:.2f} ppm, K={k_optimal:.2f} ppm\")\n",
        "\n",
        "    # 3. Hitung defisit\n",
        "    defisit_n = max(0, n_optimal - data_sensor['N_sekarang'])\n",
        "    defisit_p = max(0, p_optimal - data_sensor['P_sekarang'])\n",
        "    defisit_k = max(0, k_optimal - data_sensor['K_sekarang'])\n",
        "\n",
        "    # 4. Hitung kebutuhan pupuk\n",
        "    kebutuhan_pupuk_untuk_n = (defisit_n * BERAT_TANAH_PER_M2) / (KANDUNGAN_N_PUPUK / 100) / 1000\n",
        "    kebutuhan_pupuk_untuk_p = (defisit_p * BERAT_TANAH_PER_M2) / (KANDUNGAN_P_PUPUK / 100) / 1000\n",
        "    kebutuhan_pupuk_untuk_k = (defisit_k * BERAT_TANAH_PER_M2) / (KANDUNGAN_K_PUPUK / 100) / 1000\n",
        "    dosis_rekomendasi = max(kebutuhan_pupuk_untuk_n, kebutuhan_pupuk_untuk_p, kebutuhan_pupuk_untuk_k)\n",
        "\n",
        "    print(\"\\n\" + \"=\"*40)\n",
        "    print(\"      Rekomendasi Pemupukan per m²\")\n",
        "    print(\"=\"*40)\n",
        "    if dosis_rekomendasi > 1: # Beri rekomendasi jika dosis > 1 gram\n",
        "        print(f\"Tambahkan pupuk NPK {KANDUNGAN_N_PUPUK}-{KANDUNGAN_P_PUPUK}-{KANDUNGAN_K_PUPUK} sebanyak: \")\n",
        "        print(f\"                     ✅ {dosis_rekomendasi:.2f} gram ✅\")\n",
        "    else:\n",
        "        print(\"✅ Kondisi tanah sudah optimal. Tidak perlu pemupukan.\")\n",
        "    print(\"=\"*40)"
      ],
      "metadata": {
        "id": "g9DPLhwI2uR6"
      },
      "execution_count": 13,
      "outputs": []
    },
    {
      "cell_type": "code",
      "source": [
        "if __name__ == \"__main__\":\n",
        "    model_n, model_p, model_k = muat_model()\n",
        "\n",
        "    if all([model_n, model_p, model_k]):\n",
        "        # Loop utama untuk terus memonitor data dari Firebase\n",
        "        while True:\n",
        "            data_aktual = baca_data_dari_firebase()\n",
        "            if data_aktual:\n",
        "                # Trigger rekomendasi jika data diterima\n",
        "                hitung_rekomendasi(model_n, model_p, model_k, data_aktual)\n",
        "\n",
        "            # Beri jeda sebelum pengecekan berikutnya\n",
        "            print(\"\\nMenunggu pembaruan data berikutnya selama 60 detik...\")\n",
        "            time.sleep(60)"
      ],
      "metadata": {
        "colab": {
          "base_uri": "https://localhost:8080/",
          "height": 245
        },
        "id": "3_8OEj4L2t0C",
        "outputId": "89871e46-5e95-48fb-a02e-28664677aabf"
      },
      "execution_count": 15,
      "outputs": [
        {
          "output_type": "stream",
          "name": "stdout",
          "text": [
            "✅ Semua model machine learning berhasil dimuat.\n",
            "❌ Gagal terhubung ke Firebase: name 'FIREBASE_PATH' is not defined\n",
            "\n",
            "Menunggu pembaruan data berikutnya selama 60 detik...\n"
          ]
        },
        {
          "output_type": "error",
          "ename": "KeyboardInterrupt",
          "evalue": "",
          "traceback": [
            "\u001b[0;31m---------------------------------------------------------------------------\u001b[0m",
            "\u001b[0;31mKeyboardInterrupt\u001b[0m                         Traceback (most recent call last)",
            "\u001b[0;32m/tmp/ipython-input-15-4259856535.py\u001b[0m in \u001b[0;36m<cell line: 0>\u001b[0;34m()\u001b[0m\n\u001b[1;32m     12\u001b[0m             \u001b[0;31m# Beri jeda sebelum pengecekan berikutnya\u001b[0m\u001b[0;34m\u001b[0m\u001b[0;34m\u001b[0m\u001b[0m\n\u001b[1;32m     13\u001b[0m             \u001b[0mprint\u001b[0m\u001b[0;34m(\u001b[0m\u001b[0;34m\"\\nMenunggu pembaruan data berikutnya selama 60 detik...\"\u001b[0m\u001b[0;34m)\u001b[0m\u001b[0;34m\u001b[0m\u001b[0;34m\u001b[0m\u001b[0m\n\u001b[0;32m---> 14\u001b[0;31m             \u001b[0mtime\u001b[0m\u001b[0;34m.\u001b[0m\u001b[0msleep\u001b[0m\u001b[0;34m(\u001b[0m\u001b[0;36m60\u001b[0m\u001b[0;34m)\u001b[0m\u001b[0;34m\u001b[0m\u001b[0;34m\u001b[0m\u001b[0m\n\u001b[0m",
            "\u001b[0;31mKeyboardInterrupt\u001b[0m: "
          ]
        }
      ]
    },
    {
      "cell_type": "code",
      "execution_count": null,
      "metadata": {
        "id": "wX8ZpdR22ICD"
      },
      "outputs": [],
      "source": [
        "\n"
      ]
    }
  ]
}