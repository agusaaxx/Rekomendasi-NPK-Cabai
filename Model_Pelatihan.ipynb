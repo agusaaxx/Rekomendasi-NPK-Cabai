{
  "nbformat": 4,
  "nbformat_minor": 0,
  "metadata": {
    "colab": {
      "provenance": [],
      "authorship_tag": "ABX9TyNmSLlTyMtqP4Vt8g7linxW",
      "include_colab_link": true
    },
    "kernelspec": {
      "name": "python3",
      "display_name": "Python 3"
    },
    "language_info": {
      "name": "python"
    }
  },
  "cells": [
    {
      "cell_type": "markdown",
      "metadata": {
        "id": "view-in-github",
        "colab_type": "text"
      },
      "source": [
        "<a href=\"https://colab.research.google.com/github/agusaaxx/Rekomendasi-NPK-Cabai/blob/main/Model_Pelatihan.ipynb\" target=\"_parent\"><img src=\"https://colab.research.google.com/assets/colab-badge.svg\" alt=\"Open In Colab\"/></a>"
      ]
    },
    {
      "cell_type": "code",
      "source": [
        "import pandas as pd\n",
        "import xgboost as xgb\n",
        "import joblib # Untuk menyimpan model"
      ],
      "metadata": {
        "id": "Low7o9zR31c7"
      },
      "execution_count": null,
      "outputs": []
    },
    {
      "cell_type": "code",
      "source": [
        "# 1. Muat Dataset Anda\n",
        "# Pastikan file CSV ini ada di direktori yang sama dengan script Python Anda.\n",
        "try:\n",
        "    df = pd.read_csv('/content/drive/MyDrive/Bimbingan Skripsi/Crop_recommendation.csv')\n",
        "except FileNotFoundError:\n",
        "    print(\"Error: File 'data_pemupukan.csv' tidak ditemukan.\")\n",
        "    # Membuat dataframe contoh jika file tidak ada, agar kode tetap bisa berjalan\n",
        "    data = {\n",
        "        'kelembaban_tanah': [65.5, 70.1, 58.9, 62.0],\n",
        "        'suhu_udara': [28.2, 26.5, 30.1, 29.0],\n",
        "        'kelembaban_udara': [85.1, 88.5, 82.0, 84.0],\n",
        "        'intensitas_cahaya': [45000, 35000, 55000, 50000],\n",
        "        'N_optimal': [150, 140, 160, 155],\n",
        "        'P_optimal': [80, 75, 85, 82],\n",
        "        'K_optimal': [200, 190, 210, 205]\n",
        "    }\n",
        "    df = pd.DataFrame(data)\n",
        "    print(\"Membuat DataFrame contoh untuk demonstrasi.\")"
      ],
      "metadata": {
        "id": "HBSTO3JA31PV"
      },
      "execution_count": 5,
      "outputs": []
    },
    {
      "cell_type": "code",
      "source": [
        "# 2. Pisahkan Fitur (Input) dan Target (Output)\n",
        "X = df[['Kelembaban Tanah', 'Suhu Udara', 'Kelembaban Udara', 'intensitas cahaya']]\n",
        "y_N = df['N']\n",
        "y_P = df['P']\n",
        "y_K = df['K']"
      ],
      "metadata": {
        "id": "t1CVXP-435zS"
      },
      "execution_count": 7,
      "outputs": []
    },
    {
      "cell_type": "code",
      "source": [
        "# 3. Inisialisasi dan Latih Model XGBoost untuk Setiap Target\n",
        "\n",
        "print(\"Memulai pelatihan model untuk Nitrogen (N)...\")\n",
        "# Model untuk Nitrogen (N)\n",
        "model_N = xgb.XGBRegressor(objective='reg:squarederror', n_estimators=100, learning_rate=0.1, max_depth=3)\n",
        "model_N.fit(X, y_N)\n",
        "# Simpan model N\n",
        "joblib.dump(model_N, 'model_rekomendasi_N.pkl')\n",
        "print(\"Model N berhasil dilatih dan disimpan sebagai 'model_rekomendasi_N.pkl'.\")\n",
        "\n",
        "print(\"\\nMemulai pelatihan model untuk Fosfor (P)...\")\n",
        "# Model untuk Fosfor (P)\n",
        "model_P = xgb.XGBRegressor(objective='reg:squarederror', n_estimators=100, learning_rate=0.1, max_depth=3)\n",
        "model_P.fit(X, y_P)\n",
        "# Simpan model P\n",
        "joblib.dump(model_P, 'model_rekomendasi_P.pkl')\n",
        "print(\"Model P berhasil dilatih dan disimpan sebagai 'model_rekomendasi_P.pkl'.\")\n",
        "\n",
        "print(\"\\nMemulai pelatihan model untuk Kalium (K)...\")\n",
        "# Model untuk Kalium (K)\n",
        "model_K = xgb.XGBRegressor(objective='reg:squarederror', n_estimators=100, learning_rate=0.1, max_depth=3)\n",
        "model_K.fit(X, y_K)\n",
        "# Simpan model K\n",
        "joblib.dump(model_K, 'model_rekomendasi_K.pkl')\n",
        "print(\"Model K berhasil dilatih dan disimpan sebagai 'model_rekomendasi_K.pkl'.\")\n",
        "\n",
        "print(\"\\nPelatihan semua model selesai!\")"
      ],
      "metadata": {
        "colab": {
          "base_uri": "https://localhost:8080/"
        },
        "id": "jf8sZPdY35lS",
        "outputId": "bfbf5714-bdb5-4eed-8beb-958ef0ff80c5"
      },
      "execution_count": 8,
      "outputs": [
        {
          "output_type": "stream",
          "name": "stdout",
          "text": [
            "Memulai pelatihan model untuk Nitrogen (N)...\n",
            "Model N berhasil dilatih dan disimpan sebagai 'model_rekomendasi_N.pkl'.\n",
            "\n",
            "Memulai pelatihan model untuk Fosfor (P)...\n",
            "Model P berhasil dilatih dan disimpan sebagai 'model_rekomendasi_P.pkl'.\n",
            "\n",
            "Memulai pelatihan model untuk Kalium (K)...\n",
            "Model K berhasil dilatih dan disimpan sebagai 'model_rekomendasi_K.pkl'.\n",
            "\n",
            "Pelatihan semua model selesai!\n"
          ]
        }
      ]
    },
    {
      "cell_type": "code",
      "execution_count": null,
      "metadata": {
        "id": "uxN0-AMH3z-8"
      },
      "outputs": [],
      "source": []
    }
  ]
}